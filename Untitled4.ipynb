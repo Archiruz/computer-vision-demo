{
 "cells": [
  {
   "cell_type": "code",
   "execution_count": 12,
   "id": "55575ee7",
   "metadata": {},
   "outputs": [],
   "source": [
    "import cv2\n",
    "import argparse\n",
    "import numpy as np\n",
    "from skimage.feature import graycomatrix\n",
    "from skimage.measure import shannon_entropy"
   ]
  },
  {
   "cell_type": "code",
   "execution_count": 34,
   "id": "699c093f",
   "metadata": {},
   "outputs": [],
   "source": [
    "def real_time_segmentation(method):\n",
    "    cap = cv2.VideoCapture(0)\n",
    "\n",
    "    while True:\n",
    "        ret, frame = cap.read()\n",
    "\n",
    "        if not ret:\n",
    "            break\n",
    "\n",
    "        # Your real-time segmentation logic goes here\n",
    "        if method == \"edge\":\n",
    "            frame = cv2.cvtColor(frame, cv2.COLOR_BGR2GRAY)\n",
    "            frame = cv2.Canny(frame, 50, 150)\n",
    "        elif method == \"color\":\n",
    "            # Example color range for blue\n",
    "            hsv = cv2.cvtColor(frame, cv2.COLOR_BGR2HSV)\n",
    "            lower_color = np.array([30, 50, 50])\n",
    "            upper_color = np.array([60, 255, 255])\n",
    "            mask = cv2.inRange(hsv, lower_color, upper_color)\n",
    "            frame = cv2.bitwise_and(frame, frame, mask=mask)\n",
    "        elif method == \"texture\":\n",
    "            gray = cv2.cvtColor(frame, cv2.COLOR_BGR2GRAY)\n",
    "            distances = [1]\n",
    "            angles = [0]\n",
    "            glcm = graycomatrix(gray, distances=distances, angles=angles, symmetric=True, normed=True)\n",
    "            contrast = glcm[0, 0, 0, 0] \n",
    "\n",
    "            # Consider using the grayscale image instead of the single contrast value\n",
    "            _, threshold = cv2.threshold(gray, 0, 255, cv2.THRESH_BINARY + cv2.THRESH_OTSU)\n",
    "            mask = np.where(gray > threshold, 255, 0).astype(np.uint8)\n",
    "            mask = cv2.resize(mask, (frame.shape[1], frame.shape[0]))\n",
    "            mask = mask.astype(frame.dtype)\n",
    "\n",
    "            frame = cv2.bitwise_and(frame, frame, mask=mask)\n",
    "        elif method == \"intensity\":\n",
    "            gray = cv2.cvtColor(frame, cv2.COLOR_BGR2GRAY)\n",
    "            _, thresholded = cv2.threshold(gray, 128, 255, cv2.THRESH_BINARY)\n",
    "            frame = thresholded\n",
    "        elif method == \"contour\":\n",
    "            gray = cv2.cvtColor(frame, cv2.COLOR_BGR2GRAY)\n",
    "            _, thresholded = cv2.threshold(gray, 128, 255, cv2.THRESH_BINARY)\n",
    "            contours, _ = cv2.findContours(thresholded, cv2.RETR_EXTERNAL, cv2.CHAIN_APPROX_SIMPLE)\n",
    "            frame = frame.copy()\n",
    "            cv2.drawContours(frame, contours, -1, (0, 255, 0), 2)\n",
    "\n",
    "        cv2.imshow(f'Real-Time {method.capitalize()} Segmentation', frame)\n",
    "\n",
    "        if cv2.waitKey(1) & 0xFF == ord('q'):\n",
    "            break\n",
    "\n",
    "    cap.release()\n",
    "    cv2.destroyAllWindows()\n"
   ]
  },
  {
   "cell_type": "code",
   "execution_count": 37,
   "id": "7acf4f59",
   "metadata": {},
   "outputs": [],
   "source": [
    "real_time_segmentation(\"contour\")"
   ]
  }
 ],
 "metadata": {
  "kernelspec": {
   "display_name": ".venv",
   "language": "python",
   "name": "python3"
  },
  "language_info": {
   "codemirror_mode": {
    "name": "ipython",
    "version": 3
   },
   "file_extension": ".py",
   "mimetype": "text/x-python",
   "name": "python",
   "nbconvert_exporter": "python",
   "pygments_lexer": "ipython3",
   "version": "3.10.4"
  }
 },
 "nbformat": 4,
 "nbformat_minor": 5
}
